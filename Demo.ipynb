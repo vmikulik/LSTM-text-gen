{
 "cells": [
  {
   "cell_type": "markdown",
   "metadata": {},
   "source": [
    "### Generating Hume-like gibberish\n",
    "\n",
    "This document is a demo for my LSTM implementation."
   ]
  },
  {
   "cell_type": "code",
   "execution_count": 1,
   "metadata": {},
   "outputs": [],
   "source": [
    "import string\n",
    "import time\n",
    "\n",
    "import matplotlib.pyplot as plt\n",
    "import numpy as np\n",
    "import torch\n",
    "from torch.optim import Adam\n",
    "\n",
    "from training import train\n",
    "from data_handling import DataLoader\n",
    "from model import LSTM"
   ]
  },
  {
   "cell_type": "code",
   "execution_count": 2,
   "metadata": {},
   "outputs": [],
   "source": [
    "device = torch.device('cuda' if torch.cuda.is_available() else 'cpu')"
   ]
  },
  {
   "cell_type": "code",
   "execution_count": 3,
   "metadata": {},
   "outputs": [],
   "source": [
    "all_letters = string.ascii_letters + \" 0123456789!?,.:;'()[]-$\""
   ]
  },
  {
   "cell_type": "code",
   "execution_count": 4,
   "metadata": {},
   "outputs": [
    {
     "name": "stdout",
     "output_type": "stream",
     "text": [
      "precomputing data tensors...\n",
      "20.00%\n",
      "39.99%\n",
      "59.99%\n",
      "79.99%\n",
      "99.98%\n",
      "100%: done\n"
     ]
    }
   ],
   "source": [
    "data_loader = DataLoader(\"hume.txt\", \n",
    "                         all_letters=all_letters, \n",
    "                         seq_length=500, \n",
    "                         device=device, \n",
    "                         verbose=True)"
   ]
  },
  {
   "cell_type": "code",
   "execution_count": 5,
   "metadata": {},
   "outputs": [],
   "source": [
    "rnn = LSTM(n_input=data_loader.n_letters, \n",
    "           n_hidden=512, \n",
    "           n_output=data_loader.n_letters, \n",
    "           n_layers=3,\n",
    "           dropout=0.1, \n",
    "           grad_clipping=5).to(device)"
   ]
  },
  {
   "cell_type": "code",
   "execution_count": 7,
   "metadata": {},
   "outputs": [
    {
     "name": "stdout",
     "output_type": "stream",
     "text": [
      "  1m 50s (200 6.67%) loss: 0.00013\n",
      "  3m 39s (400 13.33%) loss: 0.00010\n",
      "  5m 28s (600 20.00%) loss: 0.00008\n",
      "  7m 20s (800 26.67%) loss: 0.00008\n",
      "  9m 11s (1000 33.33%) loss: 0.00007\n",
      " 11m  4s (1200 40.00%) loss: 0.00007\n",
      " 12m 52s (1400 46.67%) loss: 0.00006\n",
      " 14m 43s (1600 53.33%) loss: 0.00006\n",
      " 16m 35s (1800 60.00%) loss: 0.00006\n",
      " 18m 26s (2000 66.67%) loss: 0.00006\n",
      " 20m 15s (2200 73.33%) loss: 0.00006\n",
      " 22m  7s (2400 80.00%) loss: 0.00006\n",
      " 23m 55s (2600 86.67%) loss: 0.00006\n",
      " 25m 46s (2800 93.33%) loss: 0.00005\n",
      " 27m 33s (3000 100.00%) loss: 0.00005\n"
     ]
    }
   ],
   "source": [
    "training_params = {\n",
    "    'number of iterations':3000,\n",
    "    'batch size':128,\n",
    "    'subsequence length':100,\n",
    "    'learning rate':0.0005\n",
    "}\n",
    "\n",
    "output_params = {\n",
    "    'plot every':50,\n",
    "    'print every':200\n",
    "}\n",
    "\n",
    "iters, losses = train(rnn, data_loader, training_params, output_params)"
   ]
  },
  {
   "cell_type": "code",
   "execution_count": 10,
   "metadata": {},
   "outputs": [
    {
     "data": {
      "image/png": "[encoded data removed]",
      "text/plain": [
       "<Figure size 1080x720 with 1 Axes>"
      ]
     },
     "metadata": {},
     "output_type": "display_data"
    }
   ],
   "source": [
    "plt.figure(figsize=(15,10))\n",
    "plt.plot(iters, losses)\n",
    "plt.xlabel(\"iteration\")\n",
    "plt.ylabel(\"loss\")\n",
    "plt.show()"
   ]
  },
  {
   "cell_type": "markdown",
   "metadata": {},
   "source": [
    "### Testing output\n",
    "\n",
    "Here, we can finally sample from the learned distribution."
   ]
  },
  {
   "cell_type": "code",
   "execution_count": 9,
   "metadata": {},
   "outputs": [
    {
     "name": "stdout",
     "output_type": "stream",
     "text": [
      "The former, both in their natural and inflexible objects.\n",
      "\n",
      "This is even this reasoning, I can employ us in a continued chain of conception. We may pretend to blood all causes, which he conceives to be charmal. Nor is this better suppos'd perceived, that, or the influence on the human mind in place with the primary, who, in all the greatest disadvantages; not much more totally delightful, as the source of all the ancient heights; and though one thing is more much idea with that which are incapable of trade and causes; but the reason, why when different on the imagination, from an object of the other. These passions are essential to it. But 'tis therefore contrary to any thing; this lies only when we form the whole idea of power or necessary connexion, we shou'd every distinction betwixt the clearer and impressions, he need only trust ourselves in a like form of government.\n",
      "\n",
      "Catheas I have really her motives during the productions of Hamazy which were secured among the world. The sceptic never results from the greatest and contemptible perceptions of these perceptions. 'Tis the fiest idea which seems subject to the grossest and most fention.\n",
      "\n",
      "For its manner we may think, that a greater difference is commonly no direct. If you enquire not the interest of common life and things with regard to greater contracts and connexions between them. I shall also take notice of this to be explained; and all these perceptions are deriv'd from the same experiment, at a loss the property of their others, and by that means insist any difference, as right and countenance, which they become. When they observe, that the inferiority, which appears to the memory or neighbour, may lose a mistake in this particular, the present object of what is not capable of fixing any advantage to each other; and tho' 'tis a maxim to confirm the first reasoning concerning the action produces other impressions, even contiguous, it is sufficient to receive any difference between them, from the first appearance of this kind. In probability arises, that all the civilitoned persons will not be applicable to us to fix the other, it wou'd never appear more perfectly indivisible in contradiction, and greater than in distant conduct. We are also, of our interest in a piece, from the approbation of definition of their actions, and by the first appearance of power and efficacy, by their influence on the imagination, than that which it is subjected to me. But resembling ideas are always the same, which is perfectly indifferent to mankind, and denied any thing resembling moral obligation. One man has ever yet been so singularated by the encrease of men; and constitutes the same degree of the people. How much they come to excite the nation, which they live in considering their interests, which seems to have a required conviction. But as they are desirable in human nature, are not only trusted on the pleasures of the rest; and therefore it be supposed to be neglected about a description of the defect of their world, and both of his vices, from which they excite his passions; and it may be ask'd, that lines by their cause and effect by the rejecting all our \n",
      "\n",
      "reflection on the object of the one, by the original effect upon the cause. But tho' these arguments and ideas, which diminish it in view and conceivable effects, to prevent the passion to the artificial vulgar, and consequently the right of passion justly supposes them in any person. But no will never go any particular effect, we may produce an impression, and that the change of thought is the cause of that abuse; not to mention, that we are both less remote from the highest and most important perceptions, which are utterly ability: To represent the power and proportion between the relation of cause and effect and practice in displaying our ideas and sentiments. Here then yet belong to my system of passions, it would never be entirely alter'd; and when we reflect on a certain idea of necessity, and must also be separated from their benevolence and passion; and an operation of the object, which attends it, like you be annihilated by such agreeable qualities. 'Tis wont our view to maintain that principle, of riches, without the notion of the spectator and contrariety. Shou'd there conceive the proportion to the one passion in a change, which we move use like manners. The former of a power might be blameable or universal, and to be mixed from great sentiments, which fall under the same qualities. But to make the narrow collection of their fruitful time, he will appear, that many of them, some language, which continually derived something more assurance, and renders the different nations of the probability. Nor may afford any reasoning to look by reasoning, we must have recourse to such discovery a considerable part of our passions; since we examine we form the idea of any object, which because of the course of nature, by their influence in the former. There is a nowing or remedy for this passion, we should easily be converted to experience; or a man of our constitution in the arts or judgment of the universe. If we consider the principles of mankind, and of his name i\n",
      "\n",
      "UOR; perhaps the subject of his mistress with him. When the Treaties of Arabians, they also ascribe our eyes to our minds and flongies, as they affrow one man, and is founded on the children and solemony of those of matter, by which it was reserved the same, but makes such a reflection. A concest of it is useful to the question money. And the interests of morality is not always the only moment of another, nor can we ever some agreeable effects: But it is certain, that such is the improvement in the same manner as it proceeded, by a person of ten human reason, justly be equal; because the end wou'd be regarded as a proof of the world. For this reason, we may observe, that, even when I justly take so far to render study a very curious politician writers, in the moral elegant subjects as much as in the most sentiment of their own skill and benevolence; and to her a difference depend upon the appearance of sentiments, and weakness, and generosity, or friendship and conduct, from whom it proceeds from directly. In a survey of sentiment, it may soon be chain'd or susceptible of objects formerly the same. But in order to observe, that nothing is suppos'd to have no entire experience concerning the species, he is always founded on causes and effects from a false deliberation. Hence the reason of this kind have a certain idea, when he does not on the senses. Sometimes my exposition for any death goes sufficiently conjoin'd together into what our own disposition, and whatever is the principal system of theology and trajegy and reflection must be found in all our worship and joint in the inferior persons. This is the cause why this reasoning is produced by the perception, and by that means independent of their suppositions; as well as in the marriage the secret reason. This truth is a passion of it to the transition, which renders them relation, and as the mind is deriv'd from the constant object, or from that of the event, this is, to which they were immediately just and cons\n",
      "\n",
      "Foregoing my view to establish it; according to the common Life of Matter, that apprehension and character, they know by their saying and gravity in the religious emergencies, which by a new sense, a satisfaction of women, and whuch so much superior to the Building, is an invention for ever resistance and conceit; since we discover an impression of the mind and principle, which are distinguishable than the idea of cause and effect, that arises from the senses; it to this manner we need only be suporn, and any object requires a pleasure; nor is there any analogy for the strength of every one, by which it shou'd explain, by reason of the generality, which is a second traim of passion of his reasoning.\n",
      "\n",
      "A superior no mathematician reconciles to the book of the necessity, by which we judge of this nature in view we can fall under all the ideas of cause an operation. But 'tis this conclusion can sceptical partner operate, and united, where they pretend at the same time, till we find that the most distant and more declared nations are led to defend the senses and artifices of a work, and he puts it to the appearance of one to the other.\n",
      "\n"
     ]
    },
    {
     "name": "stdout",
     "output_type": "stream",
     "text": [
      "How is this rule wou'd be demanded, but must suppose it as any answer, that hurtful and alteration in the person more contrary to that of our interest in a superior power. But it is not it follows, that we cannot admit of no relation, I shmould possibly be found to conclude, that the philosopher, if we should attach the consequence of the former, and that the object we can admit of this knowledge, it must be allow'd to be implying without any reflection. It is not a difference in the case of fact and fiction. Since therefore our sensations resemble the passions and relations, but not only on account of their original impression, which will commonly give place in considering the changes of the internal and creature. Where the influence of our impressions are more influenced by a common nature, than where the object or sentiment or character is, therefore, on the contrary, the second dissolution of the mind are to encrease our perceptions from one species. The only object of the mind may be satisfy'd; and we must afterwards, that the peculiar advantage, which I have made display their ways be more excellent and virtuous, more easily and committed, may seem a very sensible or explaining any definition of existence, by an easy resemblance and opposition to their view; and to be, that the idea of power might be agreeable, without much fair consequence; which principles the mind renders it compleat and distinct from a like reasoning or operation. He is not being contrary to its own faculties, but every one may give us the effect, without some resemblance and action, and leave its original virtues. For what is it therefore it proceeded, that a true conduct in life, the second with favourable operations, we should have a conceiv'd or removed from it. One who is naturally observ'd in our own degrees, it is observable, that all kinds dispute and foreign company among the rest of a but line.\n",
      "\n",
      "Head, it rather employ, in all others, makes us form any very belief beyond the experienced enthusiasm. He was therefore the most advantageous to you, he pleases.\n",
      "\n"
     ]
    }
   ],
   "source": [
    "max_sample_length = 2000\n",
    "\n",
    "def sample(starting_with=\"\", temperature=1):\n",
    "    verse = starting_with\n",
    "    with torch.no_grad():\n",
    "        rnn.eval()\n",
    "        letter = \"$\" + starting_with\n",
    "        state = rnn.init_state(data_loader.seq2tensor(letter, truncate=False).unsqueeze(1).to(device))\n",
    "        for i in range(max_sample_length):\n",
    "            input_tensor = data_loader.seq2tensor(letter, truncate=False).unsqueeze(1).to(device)\n",
    "            output, state = rnn.sample(input_tensor, state, temperature)\n",
    "            probs = np.exp(output[-1].squeeze().cpu().numpy())\n",
    "            letter = np.random.choice(list(data_loader.all_letters), p=probs)\n",
    "            if letter == \"$\":\n",
    "                return verse\n",
    "            verse += letter\n",
    "    return verse\n",
    "\n",
    "for i in range(10):\n",
    "    print(sample(\"\", temperature=0.9) + '\\n')"
   ]
  },
  {
   "cell_type": "code",
   "execution_count": null,
   "metadata": {},
   "outputs": [],
   "source": []
  }
 ],
 "metadata": {
  "kernelspec": {
   "display_name": "Python 3",
   "language": "python",
   "name": "python3"
  },
  "language_info": {
   "codemirror_mode": {
    "name": "ipython",
    "version": 3
   },
   "file_extension": ".py",
   "mimetype": "text/x-python",
   "name": "python",
   "nbconvert_exporter": "python",
   "pygments_lexer": "ipython3",
   "version": "3.6.4"
  }
 },
 "nbformat": 4,
 "nbformat_minor": 2
}
